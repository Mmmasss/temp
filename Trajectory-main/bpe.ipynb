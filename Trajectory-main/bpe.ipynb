{
 "cells": [
  {
   "cell_type": "code",
   "execution_count": 1,
   "metadata": {},
   "outputs": [],
   "source": [
    "import numpy as np\n",
    "import torch\n",
    "from grid2vec import *\n",
    "import json\n",
    "import pandas as pd\n",
    "from utils import Timer, copy_file\n",
    "from joblib import Parallel, delayed\n",
    "from traj2grid import Traj2Grid\n",
    "import traj_dist.distance as tdist\n",
    "from logging import raiseExceptions\n",
    "from parameters import *\n",
    "import numpy as np\n",
    "import time\n",
    "# import modin.pandas as pd\n",
    "# import ray\n",
    "import fastBPE\n",
    "\n",
    "timer = Timer()"
   ]
  },
  {
   "cell_type": "code",
   "execution_count": 3,
   "metadata": {},
   "outputs": [
    {
     "name": "stdout",
     "output_type": "stream",
     "text": [
      "load dictdata/str_grid2idx_400_44612.json done, 86.798s after tik start\n",
      "tik start\n",
      "read01 done, 18.698s after tik start\n",
      "剩30469437/32155517个点，筛掉5% done, 20.606s after tik start\n"
     ]
    },
    {
     "ename": "KeyboardInterrupt",
     "evalue": "",
     "output_type": "error",
     "traceback": [
      "\u001b[0;31m---------------------------------------------------------------------------\u001b[0m",
      "\u001b[0;31mKeyboardInterrupt\u001b[0m                         Traceback (most recent call last)",
      "\u001b[1;32m/home/yqguo/coding/Trajectory/bpe.ipynb Cell 2'\u001b[0m in \u001b[0;36m<module>\u001b[0;34m\u001b[0m\n\u001b[1;32m     <a href='vscode-notebook-cell://ssh-remote%2B251/home/yqguo/coding/Trajectory/bpe.ipynb#ch0000001vscode-remote?line=37'>38</a>\u001b[0m     \u001b[39mreturn\u001b[39;00m series\n\u001b[1;32m     <a href='vscode-notebook-cell://ssh-remote%2B251/home/yqguo/coding/Trajectory/bpe.ipynb#ch0000001vscode-remote?line=40'>41</a>\u001b[0m \u001b[39m# group-apply\u001b[39;00m\n\u001b[0;32m---> <a href='vscode-notebook-cell://ssh-remote%2B251/home/yqguo/coding/Trajectory/bpe.ipynb#ch0000001vscode-remote?line=41'>42</a>\u001b[0m res \u001b[39m=\u001b[39m Parallel(n_jobs\u001b[39m=\u001b[39;49m\u001b[39m44\u001b[39;49m)(delayed(group_concat)(group)\u001b[39mfor\u001b[39;49;00m name, group \u001b[39min\u001b[39;49;00m df\u001b[39m.\u001b[39;49mgroupby(\u001b[39m\"\u001b[39;49m\u001b[39mid\u001b[39;49m\u001b[39m\"\u001b[39;49m))\n\u001b[1;32m     <a href='vscode-notebook-cell://ssh-remote%2B251/home/yqguo/coding/Trajectory/bpe.ipynb#ch0000001vscode-remote?line=42'>43</a>\u001b[0m df \u001b[39m=\u001b[39m pd\u001b[39m.\u001b[39mDataFrame(res)\n\u001b[1;32m     <a href='vscode-notebook-cell://ssh-remote%2B251/home/yqguo/coding/Trajectory/bpe.ipynb#ch0000001vscode-remote?line=43'>44</a>\u001b[0m timer\u001b[39m.\u001b[39mtok(\u001b[39m\"\u001b[39m\u001b[39mgroup-apply\u001b[39m\u001b[39m\"\u001b[39m)\n",
      "File \u001b[0;32m~/anaconda3/envs/workspace/lib/python3.8/site-packages/joblib/parallel.py:1056\u001b[0m, in \u001b[0;36mParallel.__call__\u001b[0;34m(self, iterable)\u001b[0m\n\u001b[1;32m   <a href='file:///home/yqguo/anaconda3/envs/workspace/lib/python3.8/site-packages/joblib/parallel.py?line=1052'>1053</a>\u001b[0m     \u001b[39mself\u001b[39m\u001b[39m.\u001b[39m_iterating \u001b[39m=\u001b[39m \u001b[39mFalse\u001b[39;00m\n\u001b[1;32m   <a href='file:///home/yqguo/anaconda3/envs/workspace/lib/python3.8/site-packages/joblib/parallel.py?line=1054'>1055</a>\u001b[0m \u001b[39mwith\u001b[39;00m \u001b[39mself\u001b[39m\u001b[39m.\u001b[39m_backend\u001b[39m.\u001b[39mretrieval_context():\n\u001b[0;32m-> <a href='file:///home/yqguo/anaconda3/envs/workspace/lib/python3.8/site-packages/joblib/parallel.py?line=1055'>1056</a>\u001b[0m     \u001b[39mself\u001b[39;49m\u001b[39m.\u001b[39;49mretrieve()\n\u001b[1;32m   <a href='file:///home/yqguo/anaconda3/envs/workspace/lib/python3.8/site-packages/joblib/parallel.py?line=1056'>1057</a>\u001b[0m \u001b[39m# Make sure that we get a last message telling us we are done\u001b[39;00m\n\u001b[1;32m   <a href='file:///home/yqguo/anaconda3/envs/workspace/lib/python3.8/site-packages/joblib/parallel.py?line=1057'>1058</a>\u001b[0m elapsed_time \u001b[39m=\u001b[39m time\u001b[39m.\u001b[39mtime() \u001b[39m-\u001b[39m \u001b[39mself\u001b[39m\u001b[39m.\u001b[39m_start_time\n",
      "File \u001b[0;32m~/anaconda3/envs/workspace/lib/python3.8/site-packages/joblib/parallel.py:935\u001b[0m, in \u001b[0;36mParallel.retrieve\u001b[0;34m(self)\u001b[0m\n\u001b[1;32m    <a href='file:///home/yqguo/anaconda3/envs/workspace/lib/python3.8/site-packages/joblib/parallel.py?line=932'>933</a>\u001b[0m \u001b[39mtry\u001b[39;00m:\n\u001b[1;32m    <a href='file:///home/yqguo/anaconda3/envs/workspace/lib/python3.8/site-packages/joblib/parallel.py?line=933'>934</a>\u001b[0m     \u001b[39mif\u001b[39;00m \u001b[39mgetattr\u001b[39m(\u001b[39mself\u001b[39m\u001b[39m.\u001b[39m_backend, \u001b[39m'\u001b[39m\u001b[39msupports_timeout\u001b[39m\u001b[39m'\u001b[39m, \u001b[39mFalse\u001b[39;00m):\n\u001b[0;32m--> <a href='file:///home/yqguo/anaconda3/envs/workspace/lib/python3.8/site-packages/joblib/parallel.py?line=934'>935</a>\u001b[0m         \u001b[39mself\u001b[39m\u001b[39m.\u001b[39m_output\u001b[39m.\u001b[39mextend(job\u001b[39m.\u001b[39;49mget(timeout\u001b[39m=\u001b[39;49m\u001b[39mself\u001b[39;49m\u001b[39m.\u001b[39;49mtimeout))\n\u001b[1;32m    <a href='file:///home/yqguo/anaconda3/envs/workspace/lib/python3.8/site-packages/joblib/parallel.py?line=935'>936</a>\u001b[0m     \u001b[39melse\u001b[39;00m:\n\u001b[1;32m    <a href='file:///home/yqguo/anaconda3/envs/workspace/lib/python3.8/site-packages/joblib/parallel.py?line=936'>937</a>\u001b[0m         \u001b[39mself\u001b[39m\u001b[39m.\u001b[39m_output\u001b[39m.\u001b[39mextend(job\u001b[39m.\u001b[39mget())\n",
      "File \u001b[0;32m~/anaconda3/envs/workspace/lib/python3.8/site-packages/joblib/_parallel_backends.py:542\u001b[0m, in \u001b[0;36mLokyBackend.wrap_future_result\u001b[0;34m(future, timeout)\u001b[0m\n\u001b[1;32m    <a href='file:///home/yqguo/anaconda3/envs/workspace/lib/python3.8/site-packages/joblib/_parallel_backends.py?line=538'>539</a>\u001b[0m \u001b[39m\"\"\"Wrapper for Future.result to implement the same behaviour as\u001b[39;00m\n\u001b[1;32m    <a href='file:///home/yqguo/anaconda3/envs/workspace/lib/python3.8/site-packages/joblib/_parallel_backends.py?line=539'>540</a>\u001b[0m \u001b[39mAsyncResults.get from multiprocessing.\"\"\"\u001b[39;00m\n\u001b[1;32m    <a href='file:///home/yqguo/anaconda3/envs/workspace/lib/python3.8/site-packages/joblib/_parallel_backends.py?line=540'>541</a>\u001b[0m \u001b[39mtry\u001b[39;00m:\n\u001b[0;32m--> <a href='file:///home/yqguo/anaconda3/envs/workspace/lib/python3.8/site-packages/joblib/_parallel_backends.py?line=541'>542</a>\u001b[0m     \u001b[39mreturn\u001b[39;00m future\u001b[39m.\u001b[39;49mresult(timeout\u001b[39m=\u001b[39;49mtimeout)\n\u001b[1;32m    <a href='file:///home/yqguo/anaconda3/envs/workspace/lib/python3.8/site-packages/joblib/_parallel_backends.py?line=542'>543</a>\u001b[0m \u001b[39mexcept\u001b[39;00m CfTimeoutError \u001b[39mas\u001b[39;00m e:\n\u001b[1;32m    <a href='file:///home/yqguo/anaconda3/envs/workspace/lib/python3.8/site-packages/joblib/_parallel_backends.py?line=543'>544</a>\u001b[0m     \u001b[39mraise\u001b[39;00m \u001b[39mTimeoutError\u001b[39;00m \u001b[39mfrom\u001b[39;00m \u001b[39me\u001b[39;00m\n",
      "File \u001b[0;32m~/anaconda3/envs/workspace/lib/python3.8/concurrent/futures/_base.py:439\u001b[0m, in \u001b[0;36mFuture.result\u001b[0;34m(self, timeout)\u001b[0m\n\u001b[1;32m    <a href='file:///home/yqguo/anaconda3/envs/workspace/lib/python3.8/concurrent/futures/_base.py?line=435'>436</a>\u001b[0m \u001b[39melif\u001b[39;00m \u001b[39mself\u001b[39m\u001b[39m.\u001b[39m_state \u001b[39m==\u001b[39m FINISHED:\n\u001b[1;32m    <a href='file:///home/yqguo/anaconda3/envs/workspace/lib/python3.8/concurrent/futures/_base.py?line=436'>437</a>\u001b[0m     \u001b[39mreturn\u001b[39;00m \u001b[39mself\u001b[39m\u001b[39m.\u001b[39m__get_result()\n\u001b[0;32m--> <a href='file:///home/yqguo/anaconda3/envs/workspace/lib/python3.8/concurrent/futures/_base.py?line=438'>439</a>\u001b[0m \u001b[39mself\u001b[39;49m\u001b[39m.\u001b[39;49m_condition\u001b[39m.\u001b[39;49mwait(timeout)\n\u001b[1;32m    <a href='file:///home/yqguo/anaconda3/envs/workspace/lib/python3.8/concurrent/futures/_base.py?line=440'>441</a>\u001b[0m \u001b[39mif\u001b[39;00m \u001b[39mself\u001b[39m\u001b[39m.\u001b[39m_state \u001b[39min\u001b[39;00m [CANCELLED, CANCELLED_AND_NOTIFIED]:\n\u001b[1;32m    <a href='file:///home/yqguo/anaconda3/envs/workspace/lib/python3.8/concurrent/futures/_base.py?line=441'>442</a>\u001b[0m     \u001b[39mraise\u001b[39;00m CancelledError()\n",
      "File \u001b[0;32m~/anaconda3/envs/workspace/lib/python3.8/threading.py:302\u001b[0m, in \u001b[0;36mCondition.wait\u001b[0;34m(self, timeout)\u001b[0m\n\u001b[1;32m    <a href='file:///home/yqguo/anaconda3/envs/workspace/lib/python3.8/threading.py?line=299'>300</a>\u001b[0m \u001b[39mtry\u001b[39;00m:    \u001b[39m# restore state no matter what (e.g., KeyboardInterrupt)\u001b[39;00m\n\u001b[1;32m    <a href='file:///home/yqguo/anaconda3/envs/workspace/lib/python3.8/threading.py?line=300'>301</a>\u001b[0m     \u001b[39mif\u001b[39;00m timeout \u001b[39mis\u001b[39;00m \u001b[39mNone\u001b[39;00m:\n\u001b[0;32m--> <a href='file:///home/yqguo/anaconda3/envs/workspace/lib/python3.8/threading.py?line=301'>302</a>\u001b[0m         waiter\u001b[39m.\u001b[39;49macquire()\n\u001b[1;32m    <a href='file:///home/yqguo/anaconda3/envs/workspace/lib/python3.8/threading.py?line=302'>303</a>\u001b[0m         gotit \u001b[39m=\u001b[39m \u001b[39mTrue\u001b[39;00m\n\u001b[1;32m    <a href='file:///home/yqguo/anaconda3/envs/workspace/lib/python3.8/threading.py?line=303'>304</a>\u001b[0m     \u001b[39melse\u001b[39;00m:\n",
      "\u001b[0;31mKeyboardInterrupt\u001b[0m: "
     ]
    }
   ],
   "source": [
    "row_num = 400\n",
    "dict_path = \"data/str_grid2idx_400_44612.json\"\n",
    "str_grid2idx = json.load(open(dict_path))\n",
    "t2g = Traj2Grid(row_num, column_num, min_lon, min_lat, max_lon, max_lat)\n",
    "grid2idx = {eval(g): str_grid2idx[g] for g in list(str_grid2idx)}\n",
    "t2g.set_vocab(grid2idx)\n",
    "timer.tok(f\"load dict{dict_path}\")\n",
    "\n",
    "timer.tik()\n",
    "for i in range(1, 5):\n",
    "    df = pd.read_csv(\n",
    "        f\"{data_dir}/full/gps_201611{str(i).zfill(2)}\",\n",
    "        names=[\"name\", \"id\", \"time\", \"lon\", \"lat\"],\n",
    "        usecols=[\"id\", \"lon\", \"lat\"],\n",
    "    )  # lon经度 lat纬度\n",
    "    timer.tok(f\"read{str(i).zfill(2)}\")\n",
    "    \n",
    "    pad = 0.002\n",
    "    l = len(df)\n",
    "    df = df[(df[\"lon\"] > 104.04214 + pad) & (df[\"lon\"] < 104.12958 - pad)]\n",
    "    df = df[(df[\"lat\"] > 30.65294 + pad) & (df[\"lat\"] < 30.72775 - pad)]\n",
    "    timer.tok(f\"剩{len(df)}/{l}个点，筛掉{round(100 - 100 * len(df) / l)}%\")\n",
    "    \n",
    "    def group_concat(group: pd.DataFrame):\n",
    "        origin_traj = [((row[\"lon\"]), row[\"lat\"])\n",
    "                    for index, row in group.iterrows()]\n",
    "        traj_1d = t2g.convert1d(origin_traj, diff=False)\n",
    "        series = pd.Series({\n",
    "            \"origin_trajs\": origin_traj,\n",
    "            \"trajs\": traj_1d,\n",
    "            \"origin_len\": len(origin_traj),\n",
    "            \"len\": len(traj_1d),\n",
    "            \"max_lon\": group[\"lon\"].max(),\n",
    "            \"max_lat\": group[\"lat\"].max(),\n",
    "            \"min_lon\": group[\"lon\"].min(),\n",
    "            \"min_lat\": group[\"lat\"].min(),\n",
    "        })\n",
    "        return series\n",
    "\n",
    "\n",
    "    # group-apply\n",
    "    res = Parallel(n_jobs=44)(delayed(group_concat)(group)for name, group in df.groupby(\"id\"))\n",
    "    df = pd.DataFrame(res)\n",
    "    timer.tok(\"group-apply\")\n"
   ]
  },
  {
   "cell_type": "code",
   "execution_count": null,
   "metadata": {},
   "outputs": [],
   "source": []
  }
 ],
 "metadata": {
  "kernelspec": {
   "display_name": "Python 3",
   "language": "python",
   "name": "python3"
  },
  "language_info": {
   "codemirror_mode": {
    "name": "ipython",
    "version": 3
   },
   "file_extension": ".py",
   "mimetype": "text/x-python",
   "name": "python",
   "nbconvert_exporter": "python",
   "pygments_lexer": "ipython3",
   "version": "3.8.12"
  }
 },
 "nbformat": 4,
 "nbformat_minor": 0
}
