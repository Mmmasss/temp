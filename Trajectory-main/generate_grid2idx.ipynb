{
 "cells": [
  {
   "cell_type": "code",
   "execution_count": null,
   "metadata": {},
   "outputs": [],
   "source": [
    "import numpy as np\n",
    "import torch\n",
    "from grid2vec import *\n",
    "import json\n",
    "import pandas as pd\n",
    "from utils import Timer, copy_file\n",
    "from joblib import Parallel, delayed\n",
    "from traj2grid import Traj2Grid\n",
    "import traj_dist.distance as tdist\n",
    "from logging import raiseExceptions\n",
    "from parameters import *\n",
    "import numpy as np\n",
    "import time\n",
    "import modin.pandas as pd\n",
    "import ray\n",
    "ray.init()\n",
    "\n",
    "timer = Timer()"
   ]
  },
  {
   "cell_type": "code",
   "execution_count": null,
   "metadata": {},
   "outputs": [],
   "source": [
    "# 生成 gird2idx 第一步：读取全部数据\n",
    "row_num = 400\n",
    "column_num = 400\n",
    "\n",
    "timer = utils.Timer()\n",
    "t2g = Traj2Grid(row_num, column_num, min_lon, min_lat, max_lon, max_lat)\n",
    "print(t2g.gird_shape)\n",
    "timer.tik()\n",
    "value_counts = None\n",
    "for i in range(1, 31):\n",
    "    df = pd.read_csv(\n",
    "        f\"{data_dir}/full/gps_201611{str(i).zfill(2)}\",\n",
    "        names=[\"name\", \"order_id\", \"time\", \"lon\", \"lat\"],\n",
    "        usecols=[\"lon\", \"lat\"],\n",
    "    )  # lon经度 lat纬度\n",
    "    timer.tok(f\"read{str(i).zfill(2)}\")\n",
    "    df = df.apply(t2g.point2grid, axis=1).squeeze()\n",
    "    timer.tok(f\"apply{str(i).zfill(2)}\")\n",
    "    if value_counts is not None:\n",
    "        value_counts = value_counts.add(df.value_counts(), fill_value=0)\n",
    "    else:\n",
    "        value_counts = df.value_counts()\n",
    "    timer.tok(f\"value_counts{str(i).zfill(2)}\")\n",
    "value_counts = value_counts.to_dict()\n"
   ]
  },
  {
   "cell_type": "code",
   "execution_count": null,
   "metadata": {},
   "outputs": [],
   "source": [
    "# 生成 gird2idx 第二步：生成vocab\n",
    "grid2idx = t2g.build_vocab(value_counts, lower_bound=10)\n",
    "print(f\"剩{len(grid2idx)}/{len(value_counts)}，筛掉{round(100 - 100 * len(grid2idx) / len(value_counts))}%\")\n"
   ]
  },
  {
   "cell_type": "code",
   "execution_count": null,
   "metadata": {},
   "outputs": [],
   "source": [
    "# 生成 gird2idx 第三步：保存str_grid2idx.json文件\n",
    "str_grid2idx = {f\"({grid[0]},{grid[1]})\": grid2idx[grid] for grid in grid2idx}\n",
    "json.dump(str_grid2idx, open(f\"data/str_grid2idx_{row_num}_{len(str_grid2idx)}.json\", \"w\"))"
   ]
  }
 ],
 "metadata": {
  "kernelspec": {
   "display_name": "Python 3",
   "language": "python",
   "name": "python3"
  },
  "language_info": {
   "codemirror_mode": {
    "name": "ipython",
    "version": 3
   },
   "file_extension": ".py",
   "mimetype": "text/x-python",
   "name": "python",
   "nbconvert_exporter": "python",
   "pygments_lexer": "ipython3",
   "version": "3.8.12"
  }
 },
 "nbformat": 4,
 "nbformat_minor": 0
}
