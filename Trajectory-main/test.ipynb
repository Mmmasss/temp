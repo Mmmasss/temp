{
 "cells": [
  {
   "cell_type": "markdown",
   "metadata": {},
   "source": [
    "traj2grid测试"
   ]
  },
  {
   "cell_type": "code",
   "execution_count": 2,
   "metadata": {},
   "outputs": [
    {
     "ename": "AttributeError",
     "evalue": "'dict' object has no attribute 'to'",
     "output_type": "error",
     "traceback": [
      "\u001b[0;31m---------------------------------------------------------------------------\u001b[0m",
      "\u001b[0;31mAttributeError\u001b[0m                            Traceback (most recent call last)",
      "\u001b[1;32m/home/yqguo/coding/Trajectory/test.ipynb Cell 2'\u001b[0m in \u001b[0;36m<module>\u001b[0;34m\u001b[0m\n\u001b[1;32m      <a href='vscode-notebook-cell://ssh-remote%2B251/home/yqguo/coding/Trajectory/test.ipynb#ch0000001vscode-remote?line=1'>2</a>\u001b[0m file_name \u001b[39m=\u001b[39m \u001b[39m\"\u001b[39m\u001b[39mmodel/cp_139_loss0.273_rank_12.47.pth\u001b[39m\u001b[39m\"\u001b[39m\n\u001b[1;32m      <a href='vscode-notebook-cell://ssh-remote%2B251/home/yqguo/coding/Trajectory/test.ipynb#ch0000001vscode-remote?line=2'>3</a>\u001b[0m model \u001b[39m=\u001b[39m torch\u001b[39m.\u001b[39mload(file_name)\n\u001b[0;32m----> <a href='vscode-notebook-cell://ssh-remote%2B251/home/yqguo/coding/Trajectory/test.ipynb#ch0000001vscode-remote?line=3'>4</a>\u001b[0m model\u001b[39m.\u001b[39;49mto(\u001b[39m\"\u001b[39m\u001b[39mcpu\u001b[39m\u001b[39m\"\u001b[39m)\n",
      "\u001b[0;31mAttributeError\u001b[0m: 'dict' object has no attribute 'to'"
     ]
    }
   ],
   "source": [
    "import torch\n",
    "file_name = \"model/cp_139_loss0.273_rank_12.47.pth\"\n",
    "model = torch.load(file_name)"
   ]
  },
  {
   "cell_type": "code",
   "execution_count": 31,
   "metadata": {},
   "outputs": [],
   "source": [
    "from traj2grid import Traj2Grid\n",
    "from parameters import min_lon, max_lon, min_lat, max_lat\n",
    "import json\n",
    "str_grid2idx = json.load(open(\"data/str_grid2idx_400_44612.json\"))\n",
    "grid2idx = {eval(g): str_grid2idx[g] for g in list(str_grid2idx)}\n",
    "t2g = Traj2Grid(400, 400, min_lon, min_lat, max_lon, max_lat, grid2idx)\n",
    "model.t2g = t2g\n",
    "model.mean_x = 104.08007913272864\n",
    "model.mean_y = 30.68234119864428\n",
    "model.std_x = 0.021409964446530056\n",
    "model.std_y = 0.019668597464374094"
   ]
  },
  {
   "cell_type": "code",
   "execution_count": 32,
   "metadata": {},
   "outputs": [],
   "source": [
    "torch.save(model, f\"model/archived_model/{file_name}\")"
   ]
  },
  {
   "cell_type": "code",
   "execution_count": 6,
   "metadata": {},
   "outputs": [],
   "source": [
    "import matplotlib.pyplot as plt\n",
    "from sklearn.decomposition import PCA  # 加载PCA算法包\n",
    "from sklearn.datasets import load_iris\n",
    "import numpy as np\n",
    " \n",
    "data = load_iris()\n",
    "y = data.target\n",
    "x = data.data\n",
    "x = np.array(x)"
   ]
  },
  {
   "cell_type": "code",
   "execution_count": 9,
   "metadata": {},
   "outputs": [
    {
     "data": {
      "image/png": "[encoded data removed]",
      "text/plain": [
       "<Figure size 432x288 with 1 Axes>"
      ]
     },
     "metadata": {
      "needs_background": "light"
     },
     "output_type": "display_data"
    }
   ],
   "source": [
    "pca = PCA(n_components=2)  # 加载PCA算法，设置降维后主成分数目为2\n",
    "reduced_x = pca.fit_transform(x)  # 对样本进行降维\n",
    "# reduced_x = np.dot(reduced_x, pca.components_) + pca.mean_  # 还原数据\n",
    " \n",
    "red_x, red_y = [], []\n",
    "blue_x, blue_y = [], []\n",
    "green_x, green_y = [], []\n",
    "# print(reduced_x)\n",
    "for i in range(len(reduced_x)):\n",
    "    if y[i] == 0:\n",
    "        red_x.append(reduced_x[i][0])\n",
    "        red_y.append(reduced_x[i][1])\n",
    "    elif y[i] == 1:\n",
    "        blue_x.append(reduced_x[i][0])\n",
    "        blue_y.append(reduced_x[i][1])\n",
    "    else:\n",
    "        green_x.append(reduced_x[i][0])\n",
    "        green_y.append(reduced_x[i][1])\n",
    "plt.scatter(red_x, red_y, c='r', marker='x')\n",
    "plt.scatter(blue_x, blue_y, c='b', marker='D')\n",
    "plt.scatter(green_x, green_y, c='g', marker='.')\n",
    "plt.show()"
   ]
  },
  {
   "cell_type": "code",
   "execution_count": 7,
   "metadata": {},
   "outputs": [
    {
     "data": {
      "text/plain": [
       "6638.572991842333"
      ]
     },
     "execution_count": 7,
     "metadata": {},
     "output_type": "execute_result"
    }
   ],
   "source": [
    "from geopy import distance\n",
    "\n",
    "num_line = []\n",
    "time = []\n",
    "distances = []\n",
    "for i in range(1,2):\n",
    "    f = open(f\"data/full/order_201611{str(i).zfill(2)}\", \"r\")\n",
    "    lines = f.readlines()\n",
    "    num_line.append(len(lines))\n",
    "    for line in lines:\n",
    "        line = line.split(\",\")\n",
    "        start_coord = (float(line[4]), float(line[3])-180)\n",
    "        end_coord = (float(line[6]), float(line[5])-180)\n",
    "        distances.append(distance.distance(start_coord, end_coord).meters)\n",
    "    f.close()\n",
    "\n",
    "import numpy as np\n",
    "\n",
    "np.sum(num_line)\n",
    "np.sum(time)/np.sum(num_line)\n",
    "np.sum(distances)/np.sum(num_line)"
   ]
  }
 ],
 "metadata": {
  "interpreter": {
   "hash": "71749671e259e2f388bff91d1027364dfcb1946679d787bfae26f99b00e31da0"
  },
  "kernelspec": {
   "display_name": "Python 3.8.12 ('workspace')",
   "language": "python",
   "name": "python3"
  },
  "language_info": {
   "codemirror_mode": {
    "name": "ipython",
    "version": 3
   },
   "file_extension": ".py",
   "mimetype": "text/x-python",
   "name": "python",
   "nbconvert_exporter": "python",
   "pygments_lexer": "ipython3",
   "version": "3.8.12"
  }
 },
 "nbformat": 4,
 "nbformat_minor": 0
}
